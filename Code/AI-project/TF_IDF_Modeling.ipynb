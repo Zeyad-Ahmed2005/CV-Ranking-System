{
  "nbformat": 4,
  "nbformat_minor": 0,
  "metadata": {
    "colab": {
      "provenance": []
    },
    "kernelspec": {
      "name": "python3",
      "display_name": "Python 3"
    },
    "language_info": {
      "name": "python"
    }
  },
  "cells": [
    {
      "cell_type": "code",
      "source": [
        "import pandas as pd\n",
        "import numpy as np\n",
        "import matplotlib.pyplot as plt\n",
        "import seaborn as sns\n",
        "from sklearn.feature_extraction.text import TfidfVectorizer\n",
        "from sklearn.model_selection import train_test_split\n",
        "from sklearn.metrics import roc_auc_score, accuracy_score, precision_score\n",
        "from sklearn.linear_model import LogisticRegression\n",
        "from sklearn.ensemble import RandomForestClassifier\n",
        "from sklearn.svm import LinearSVC\n",
        "from sklearn.naive_bayes import GaussianNB\n",
        "from sklearn.neighbors import KNeighborsClassifier\n",
        "from sklearn.naive_bayes import MultinomialNB\n",
        "from sklearn.metrics.pairwise import cosine_similarity\n",
        "from xgboost import XGBClassifier\n",
        "from lightgbm import LGBMClassifier\n",
        "from keras.models import Sequential, Model\n",
        "from keras.layers import Dense, Dropout, BatchNormalization, Input, Lambda\n",
        "from keras.optimizers import Adam\n",
        "import tensorflow as tf\n",
        "from tqdm import tqdm"
      ],
      "metadata": {
        "id": "9DYBdyPX9syW"
      },
      "execution_count": 31,
      "outputs": []
    },
    {
      "cell_type": "code",
      "execution_count": 61,
      "metadata": {
        "colab": {
          "base_uri": "https://localhost:8080/",
          "height": 424
        },
        "id": "eks_zW-zm22W",
        "outputId": "9328f320-c14e-45f1-cb8e-867ff49f114c"
      },
      "outputs": [
        {
          "output_type": "execute_result",
          "data": {
            "text/plain": [
              "                                            resume_Text  \\\n",
              "0     SummaryForward-thinking Project Management Pro...   \n",
              "1     Professional ProfileExpert in Functional Testi...   \n",
              "2     Professional SummaryA professional position in...   \n",
              "3     SummaryWorking with a $100 million company uti...   \n",
              "4     Professional SummaryDependable, results-driven...   \n",
              "...                                                 ...   \n",
              "4824  Professional SummaryDependable, results-driven...   \n",
              "4825  SummarySelf-motivated Data Analyst offering 8 ...   \n",
              "4826  Career OverviewDedicated, personable, and moti...   \n",
              "4827  SummaryA results driven, detail-oriented data ...   \n",
              "4828  SummaryDedi100 Montgomery St. 10th Floorted He...   \n",
              "\n",
              "                                   job_description_text  decision  job_id  \n",
              "0      Experienced in Salesforce Industries Communic...         0       0  \n",
              "1      Experienced in Salesforce Industries Communic...         0       0  \n",
              "2      Experienced in Salesforce Industries Communic...         0       0  \n",
              "3      Experienced in Salesforce Industries Communic...         0       0  \n",
              "4      Experienced in Salesforce Industries Communic...         0       0  \n",
              "...                                                 ...       ...     ...  \n",
              "4824  Your Journey at Crowe Starts Here:\\nAt Crowe, ...         1     189  \n",
              "4825  Your Journey at Crowe Starts Here:\\nAt Crowe, ...         1     189  \n",
              "4826  Your Journey at Crowe Starts Here:\\nAt Crowe, ...         1     189  \n",
              "4827  Your Journey at Crowe Starts Here:\\nAt Crowe, ...         1     189  \n",
              "4828  Your Journey at Crowe Starts Here:\\nAt Crowe, ...         1     189  \n",
              "\n",
              "[4829 rows x 4 columns]"
            ],
            "text/html": [
              "\n",
              "  <div id=\"df-c01ba878-b999-4b28-b7ae-78a8775dbd52\" class=\"colab-df-container\">\n",
              "    <div>\n",
              "<style scoped>\n",
              "    .dataframe tbody tr th:only-of-type {\n",
              "        vertical-align: middle;\n",
              "    }\n",
              "\n",
              "    .dataframe tbody tr th {\n",
              "        vertical-align: top;\n",
              "    }\n",
              "\n",
              "    .dataframe thead th {\n",
              "        text-align: right;\n",
              "    }\n",
              "</style>\n",
              "<table border=\"1\" class=\"dataframe\">\n",
              "  <thead>\n",
              "    <tr style=\"text-align: right;\">\n",
              "      <th></th>\n",
              "      <th>resume_Text</th>\n",
              "      <th>job_description_text</th>\n",
              "      <th>decision</th>\n",
              "      <th>job_id</th>\n",
              "    </tr>\n",
              "  </thead>\n",
              "  <tbody>\n",
              "    <tr>\n",
              "      <th>0</th>\n",
              "      <td>SummaryForward-thinking Project Management Pro...</td>\n",
              "      <td>Experienced in Salesforce Industries Communic...</td>\n",
              "      <td>0</td>\n",
              "      <td>0</td>\n",
              "    </tr>\n",
              "    <tr>\n",
              "      <th>1</th>\n",
              "      <td>Professional ProfileExpert in Functional Testi...</td>\n",
              "      <td>Experienced in Salesforce Industries Communic...</td>\n",
              "      <td>0</td>\n",
              "      <td>0</td>\n",
              "    </tr>\n",
              "    <tr>\n",
              "      <th>2</th>\n",
              "      <td>Professional SummaryA professional position in...</td>\n",
              "      <td>Experienced in Salesforce Industries Communic...</td>\n",
              "      <td>0</td>\n",
              "      <td>0</td>\n",
              "    </tr>\n",
              "    <tr>\n",
              "      <th>3</th>\n",
              "      <td>SummaryWorking with a $100 million company uti...</td>\n",
              "      <td>Experienced in Salesforce Industries Communic...</td>\n",
              "      <td>0</td>\n",
              "      <td>0</td>\n",
              "    </tr>\n",
              "    <tr>\n",
              "      <th>4</th>\n",
              "      <td>Professional SummaryDependable, results-driven...</td>\n",
              "      <td>Experienced in Salesforce Industries Communic...</td>\n",
              "      <td>0</td>\n",
              "      <td>0</td>\n",
              "    </tr>\n",
              "    <tr>\n",
              "      <th>...</th>\n",
              "      <td>...</td>\n",
              "      <td>...</td>\n",
              "      <td>...</td>\n",
              "      <td>...</td>\n",
              "    </tr>\n",
              "    <tr>\n",
              "      <th>4824</th>\n",
              "      <td>Professional SummaryDependable, results-driven...</td>\n",
              "      <td>Your Journey at Crowe Starts Here:\\nAt Crowe, ...</td>\n",
              "      <td>1</td>\n",
              "      <td>189</td>\n",
              "    </tr>\n",
              "    <tr>\n",
              "      <th>4825</th>\n",
              "      <td>SummarySelf-motivated Data Analyst offering 8 ...</td>\n",
              "      <td>Your Journey at Crowe Starts Here:\\nAt Crowe, ...</td>\n",
              "      <td>1</td>\n",
              "      <td>189</td>\n",
              "    </tr>\n",
              "    <tr>\n",
              "      <th>4826</th>\n",
              "      <td>Career OverviewDedicated, personable, and moti...</td>\n",
              "      <td>Your Journey at Crowe Starts Here:\\nAt Crowe, ...</td>\n",
              "      <td>1</td>\n",
              "      <td>189</td>\n",
              "    </tr>\n",
              "    <tr>\n",
              "      <th>4827</th>\n",
              "      <td>SummaryA results driven, detail-oriented data ...</td>\n",
              "      <td>Your Journey at Crowe Starts Here:\\nAt Crowe, ...</td>\n",
              "      <td>1</td>\n",
              "      <td>189</td>\n",
              "    </tr>\n",
              "    <tr>\n",
              "      <th>4828</th>\n",
              "      <td>SummaryDedi100 Montgomery St. 10th Floorted He...</td>\n",
              "      <td>Your Journey at Crowe Starts Here:\\nAt Crowe, ...</td>\n",
              "      <td>1</td>\n",
              "      <td>189</td>\n",
              "    </tr>\n",
              "  </tbody>\n",
              "</table>\n",
              "<p>4829 rows × 4 columns</p>\n",
              "</div>\n",
              "    <div class=\"colab-df-buttons\">\n",
              "\n",
              "  <div class=\"colab-df-container\">\n",
              "    <button class=\"colab-df-convert\" onclick=\"convertToInteractive('df-c01ba878-b999-4b28-b7ae-78a8775dbd52')\"\n",
              "            title=\"Convert this dataframe to an interactive table.\"\n",
              "            style=\"display:none;\">\n",
              "\n",
              "  <svg xmlns=\"http://www.w3.org/2000/svg\" height=\"24px\" viewBox=\"0 -960 960 960\">\n",
              "    <path d=\"M120-120v-720h720v720H120Zm60-500h600v-160H180v160Zm220 220h160v-160H400v160Zm0 220h160v-160H400v160ZM180-400h160v-160H180v160Zm440 0h160v-160H620v160ZM180-180h160v-160H180v160Zm440 0h160v-160H620v160Z\"/>\n",
              "  </svg>\n",
              "    </button>\n",
              "\n",
              "  <style>\n",
              "    .colab-df-container {\n",
              "      display:flex;\n",
              "      gap: 12px;\n",
              "    }\n",
              "\n",
              "    .colab-df-convert {\n",
              "      background-color: #E8F0FE;\n",
              "      border: none;\n",
              "      border-radius: 50%;\n",
              "      cursor: pointer;\n",
              "      display: none;\n",
              "      fill: #1967D2;\n",
              "      height: 32px;\n",
              "      padding: 0 0 0 0;\n",
              "      width: 32px;\n",
              "    }\n",
              "\n",
              "    .colab-df-convert:hover {\n",
              "      background-color: #E2EBFA;\n",
              "      box-shadow: 0px 1px 2px rgba(60, 64, 67, 0.3), 0px 1px 3px 1px rgba(60, 64, 67, 0.15);\n",
              "      fill: #174EA6;\n",
              "    }\n",
              "\n",
              "    .colab-df-buttons div {\n",
              "      margin-bottom: 4px;\n",
              "    }\n",
              "\n",
              "    [theme=dark] .colab-df-convert {\n",
              "      background-color: #3B4455;\n",
              "      fill: #D2E3FC;\n",
              "    }\n",
              "\n",
              "    [theme=dark] .colab-df-convert:hover {\n",
              "      background-color: #434B5C;\n",
              "      box-shadow: 0px 1px 3px 1px rgba(0, 0, 0, 0.15);\n",
              "      filter: drop-shadow(0px 1px 2px rgba(0, 0, 0, 0.3));\n",
              "      fill: #FFFFFF;\n",
              "    }\n",
              "  </style>\n",
              "\n",
              "    <script>\n",
              "      const buttonEl =\n",
              "        document.querySelector('#df-c01ba878-b999-4b28-b7ae-78a8775dbd52 button.colab-df-convert');\n",
              "      buttonEl.style.display =\n",
              "        google.colab.kernel.accessAllowed ? 'block' : 'none';\n",
              "\n",
              "      async function convertToInteractive(key) {\n",
              "        const element = document.querySelector('#df-c01ba878-b999-4b28-b7ae-78a8775dbd52');\n",
              "        const dataTable =\n",
              "          await google.colab.kernel.invokeFunction('convertToInteractive',\n",
              "                                                    [key], {});\n",
              "        if (!dataTable) return;\n",
              "\n",
              "        const docLinkHtml = 'Like what you see? Visit the ' +\n",
              "          '<a target=\"_blank\" href=https://colab.research.google.com/notebooks/data_table.ipynb>data table notebook</a>'\n",
              "          + ' to learn more about interactive tables.';\n",
              "        element.innerHTML = '';\n",
              "        dataTable['output_type'] = 'display_data';\n",
              "        await google.colab.output.renderOutput(dataTable, element);\n",
              "        const docLink = document.createElement('div');\n",
              "        docLink.innerHTML = docLinkHtml;\n",
              "        element.appendChild(docLink);\n",
              "      }\n",
              "    </script>\n",
              "  </div>\n",
              "\n",
              "\n",
              "    <div id=\"df-d822b4a3-e299-4c35-8de5-da3f4acfe677\">\n",
              "      <button class=\"colab-df-quickchart\" onclick=\"quickchart('df-d822b4a3-e299-4c35-8de5-da3f4acfe677')\"\n",
              "                title=\"Suggest charts\"\n",
              "                style=\"display:none;\">\n",
              "\n",
              "<svg xmlns=\"http://www.w3.org/2000/svg\" height=\"24px\"viewBox=\"0 0 24 24\"\n",
              "     width=\"24px\">\n",
              "    <g>\n",
              "        <path d=\"M19 3H5c-1.1 0-2 .9-2 2v14c0 1.1.9 2 2 2h14c1.1 0 2-.9 2-2V5c0-1.1-.9-2-2-2zM9 17H7v-7h2v7zm4 0h-2V7h2v10zm4 0h-2v-4h2v4z\"/>\n",
              "    </g>\n",
              "</svg>\n",
              "      </button>\n",
              "\n",
              "<style>\n",
              "  .colab-df-quickchart {\n",
              "      --bg-color: #E8F0FE;\n",
              "      --fill-color: #1967D2;\n",
              "      --hover-bg-color: #E2EBFA;\n",
              "      --hover-fill-color: #174EA6;\n",
              "      --disabled-fill-color: #AAA;\n",
              "      --disabled-bg-color: #DDD;\n",
              "  }\n",
              "\n",
              "  [theme=dark] .colab-df-quickchart {\n",
              "      --bg-color: #3B4455;\n",
              "      --fill-color: #D2E3FC;\n",
              "      --hover-bg-color: #434B5C;\n",
              "      --hover-fill-color: #FFFFFF;\n",
              "      --disabled-bg-color: #3B4455;\n",
              "      --disabled-fill-color: #666;\n",
              "  }\n",
              "\n",
              "  .colab-df-quickchart {\n",
              "    background-color: var(--bg-color);\n",
              "    border: none;\n",
              "    border-radius: 50%;\n",
              "    cursor: pointer;\n",
              "    display: none;\n",
              "    fill: var(--fill-color);\n",
              "    height: 32px;\n",
              "    padding: 0;\n",
              "    width: 32px;\n",
              "  }\n",
              "\n",
              "  .colab-df-quickchart:hover {\n",
              "    background-color: var(--hover-bg-color);\n",
              "    box-shadow: 0 1px 2px rgba(60, 64, 67, 0.3), 0 1px 3px 1px rgba(60, 64, 67, 0.15);\n",
              "    fill: var(--button-hover-fill-color);\n",
              "  }\n",
              "\n",
              "  .colab-df-quickchart-complete:disabled,\n",
              "  .colab-df-quickchart-complete:disabled:hover {\n",
              "    background-color: var(--disabled-bg-color);\n",
              "    fill: var(--disabled-fill-color);\n",
              "    box-shadow: none;\n",
              "  }\n",
              "\n",
              "  .colab-df-spinner {\n",
              "    border: 2px solid var(--fill-color);\n",
              "    border-color: transparent;\n",
              "    border-bottom-color: var(--fill-color);\n",
              "    animation:\n",
              "      spin 1s steps(1) infinite;\n",
              "  }\n",
              "\n",
              "  @keyframes spin {\n",
              "    0% {\n",
              "      border-color: transparent;\n",
              "      border-bottom-color: var(--fill-color);\n",
              "      border-left-color: var(--fill-color);\n",
              "    }\n",
              "    20% {\n",
              "      border-color: transparent;\n",
              "      border-left-color: var(--fill-color);\n",
              "      border-top-color: var(--fill-color);\n",
              "    }\n",
              "    30% {\n",
              "      border-color: transparent;\n",
              "      border-left-color: var(--fill-color);\n",
              "      border-top-color: var(--fill-color);\n",
              "      border-right-color: var(--fill-color);\n",
              "    }\n",
              "    40% {\n",
              "      border-color: transparent;\n",
              "      border-right-color: var(--fill-color);\n",
              "      border-top-color: var(--fill-color);\n",
              "    }\n",
              "    60% {\n",
              "      border-color: transparent;\n",
              "      border-right-color: var(--fill-color);\n",
              "    }\n",
              "    80% {\n",
              "      border-color: transparent;\n",
              "      border-right-color: var(--fill-color);\n",
              "      border-bottom-color: var(--fill-color);\n",
              "    }\n",
              "    90% {\n",
              "      border-color: transparent;\n",
              "      border-bottom-color: var(--fill-color);\n",
              "    }\n",
              "  }\n",
              "</style>\n",
              "\n",
              "      <script>\n",
              "        async function quickchart(key) {\n",
              "          const quickchartButtonEl =\n",
              "            document.querySelector('#' + key + ' button');\n",
              "          quickchartButtonEl.disabled = true;  // To prevent multiple clicks.\n",
              "          quickchartButtonEl.classList.add('colab-df-spinner');\n",
              "          try {\n",
              "            const charts = await google.colab.kernel.invokeFunction(\n",
              "                'suggestCharts', [key], {});\n",
              "          } catch (error) {\n",
              "            console.error('Error during call to suggestCharts:', error);\n",
              "          }\n",
              "          quickchartButtonEl.classList.remove('colab-df-spinner');\n",
              "          quickchartButtonEl.classList.add('colab-df-quickchart-complete');\n",
              "        }\n",
              "        (() => {\n",
              "          let quickchartButtonEl =\n",
              "            document.querySelector('#df-d822b4a3-e299-4c35-8de5-da3f4acfe677 button');\n",
              "          quickchartButtonEl.style.display =\n",
              "            google.colab.kernel.accessAllowed ? 'block' : 'none';\n",
              "        })();\n",
              "      </script>\n",
              "    </div>\n",
              "\n",
              "  <div id=\"id_66229384-e3f9-4204-aead-b0ccfe19da65\">\n",
              "    <style>\n",
              "      .colab-df-generate {\n",
              "        background-color: #E8F0FE;\n",
              "        border: none;\n",
              "        border-radius: 50%;\n",
              "        cursor: pointer;\n",
              "        display: none;\n",
              "        fill: #1967D2;\n",
              "        height: 32px;\n",
              "        padding: 0 0 0 0;\n",
              "        width: 32px;\n",
              "      }\n",
              "\n",
              "      .colab-df-generate:hover {\n",
              "        background-color: #E2EBFA;\n",
              "        box-shadow: 0px 1px 2px rgba(60, 64, 67, 0.3), 0px 1px 3px 1px rgba(60, 64, 67, 0.15);\n",
              "        fill: #174EA6;\n",
              "      }\n",
              "\n",
              "      [theme=dark] .colab-df-generate {\n",
              "        background-color: #3B4455;\n",
              "        fill: #D2E3FC;\n",
              "      }\n",
              "\n",
              "      [theme=dark] .colab-df-generate:hover {\n",
              "        background-color: #434B5C;\n",
              "        box-shadow: 0px 1px 3px 1px rgba(0, 0, 0, 0.15);\n",
              "        filter: drop-shadow(0px 1px 2px rgba(0, 0, 0, 0.3));\n",
              "        fill: #FFFFFF;\n",
              "      }\n",
              "    </style>\n",
              "    <button class=\"colab-df-generate\" onclick=\"generateWithVariable('df')\"\n",
              "            title=\"Generate code using this dataframe.\"\n",
              "            style=\"display:none;\">\n",
              "\n",
              "  <svg xmlns=\"http://www.w3.org/2000/svg\" height=\"24px\"viewBox=\"0 0 24 24\"\n",
              "       width=\"24px\">\n",
              "    <path d=\"M7,19H8.4L18.45,9,17,7.55,7,17.6ZM5,21V16.75L18.45,3.32a2,2,0,0,1,2.83,0l1.4,1.43a1.91,1.91,0,0,1,.58,1.4,1.91,1.91,0,0,1-.58,1.4L9.25,21ZM18.45,9,17,7.55Zm-12,3A5.31,5.31,0,0,0,4.9,8.1,5.31,5.31,0,0,0,1,6.5,5.31,5.31,0,0,0,4.9,4.9,5.31,5.31,0,0,0,6.5,1,5.31,5.31,0,0,0,8.1,4.9,5.31,5.31,0,0,0,12,6.5,5.46,5.46,0,0,0,6.5,12Z\"/>\n",
              "  </svg>\n",
              "    </button>\n",
              "    <script>\n",
              "      (() => {\n",
              "      const buttonEl =\n",
              "        document.querySelector('#id_66229384-e3f9-4204-aead-b0ccfe19da65 button.colab-df-generate');\n",
              "      buttonEl.style.display =\n",
              "        google.colab.kernel.accessAllowed ? 'block' : 'none';\n",
              "\n",
              "      buttonEl.onclick = () => {\n",
              "        google.colab.notebook.generateWithVariable('df');\n",
              "      }\n",
              "      })();\n",
              "    </script>\n",
              "  </div>\n",
              "\n",
              "    </div>\n",
              "  </div>\n"
            ],
            "application/vnd.google.colaboratory.intrinsic+json": {
              "type": "dataframe",
              "variable_name": "df",
              "summary": "{\n  \"name\": \"df\",\n  \"rows\": 4829,\n  \"fields\": [\n    {\n      \"column\": \"resume_Text\",\n      \"properties\": {\n        \"dtype\": \"category\",\n        \"num_unique_values\": 2321,\n        \"samples\": [\n          \"Here's a sample resume for Kenneth Harris:\\n\\nKenneth Harris\\nContact Information:\\n\\n* Email: [kenneth.harris@email.com](mailto:kenneth.harris@email.com)\\n* Phone: 555-555-5555\\n* LinkedIn: linkedin.com/in/kennethharris\\n* GitHub: github.com/kennethharris\\n\\nProfessional Summary:\\nHighly skilled AR/VR Developer with 5+ years of experience in creating immersive experiences using 3D modeling, Oculus SDK, and spatial computing. Proficient in designing and implementing AR markers for various industries, including gaming, education, and healthcare. Profound understanding of spatial computing and its applications in AR/VR development.\\n\\nTechnical Skills:\\n\\n* Programming languages: C++, Java, Python\\n* 3D modeling tools: Blender, Maya, 3ds Max\\n* AR/VR engines: Unity, Unreal Engine\\n* Spatial computing platforms: Oculus SDK, ARKit, ARCore\\n* Operating Systems: Windows, macOS, Linux\\n* Familiarity with version control systems: Git, SVN\\n\\nProfessional Experience:\\n\\nSenior AR/VR Developer, XYZ Corporation (2018-Present)\\n\\n* Designed and developed immersive AR/VR experiences for clients in gaming, education, and healthcare industries\\n* Utilized 3D modeling tools to create custom environments and assets for AR/VR applications\\n* Implemented AR markers using Oculus SDK and Unity engine to enhance user engagement\\n* Collaborated with cross-functional teams to integrate AR/VR experiences into existing products and services\\n* Developed and maintained AR/VR applications using Unity and Unreal Engine\\n\\nAR/VR Developer, ABC Startups (2015-2018)\\n\\n* Contributed to the development of AR/VR applications using Unity and Unreal Engine\\n* Created 3D models and assets for AR/VR experiences using Blender and Maya\\n* Implemented AR markers using ARKit and ARCore to enhance user engagement\\n* Collaborated with designers to integrate AR/VR experiences into existing products and services\\n* Developed and maintained AR/VR applications using Unity and Unreal Engine\\n\\nEducation:\\n\\n* Bachelor's Degree in Computer Science, [University Name] (2010-2014)\\n\\nAchievements:\\n\\n* Winner, AR/VR Hackathon (2019): Developed an immersive AR/VR experience using Unity and Oculus SDK, which won first prize in the AR/VR Hackathon\\n* featured speaker, AR/VR Conference (2018): Presented a talk on \\\"Spatial Computing and its Applications in AR/VR Development\\\"\\n* published paper, Journal of AR/VR Research (2017): Published a research paper on \\\"Implementing AR Markers using Oculus SDK and Unity Engine\\\"\\n\\nCertifications:\\n\\n* Oculus Developer Certification (2018)\\n* Unity Certified Developer (2016)\\n\\nReferences:\\nAvailable upon request.\\n\\nI hope this sample resume helps! Remember to customize your resume to fit your own experiences and the specific job you're applying for. Good luck with your job search!\",\n          \"Here's a professional resume for Robert Vasquez:\\n\\nRobert Vasquez\\nContact Information:\\n\\n* Email: [robert.vasquez@email.com](mailto:robert.vasquez@email.com)\\n* Phone: 555-555-5555\\n* LinkedIn: linkedin.com/in/robertvasquez\\n* GitHub: github.com/robertvasquez\\n\\nProfessional Summary:\\nHighly motivated and detail-oriented QA Engineer with 5+ years of experience in automated testing, bug tracking, and performance testing. Skilled in Selenium, Java, and JIRA, with a strong background in test case development and execution. Proven track record of improving test coverage and reducing defect rates.\\n\\nTechnical Skills:\\n\\n* Programming languages: Java, Python, C#\\n* Testing frameworks: Selenium, Appium, JUnit\\n* Bug tracking tools: JIRA, Trello, Bugzilla\\n* Performance testing tools: JMeter, Gatling\\n* Agile methodologies: Scrum, Kanban\\n* Operating Systems: Windows, Linux, macOS\\n* Database management: MySQL, Oracle\\n\\nProfessional Experience:\\n\\nQA Engineer, ABC Corporation (2018-Present)\\n\\n* Designed and implemented automated test scripts using Selenium and Java to improve test coverage and reduce manual testing time\\n* Collaborated with development team to identify and report defects, providing detailed bug reports and reproducing steps\\n* Conducted performance testing using JMeter to identify bottlenecks and optimize application performance\\n* Developed and maintained test case libraries in JIRA, ensuring test coverage and execution\\n* Improved test execution efficiency by 30% through automation and process improvements\\n\\nQA Tester, DEF Startups (2015-2018)\\n\\n* Conducted manual testing of software applications, identifying defects and reporting to development team\\n* Created and maintained test plans, test cases, and test scripts using Excel and JIRA\\n* Collaborated with cross-functional teams to ensure test coverage and quality of software releases\\n* Developed and delivered training sessions to team members on testing methodologies and tools\\n\\nEducation:\\n\\n* Bachelor's Degree in Computer Science, XYZ University (2015)\\n\\nAchievements:\\n\\n* Improved test coverage by 25% through automation of test scripts\\n* Reduced defect rate by 30% through thorough testing and defect identification\\n* Implemented a test automation framework for a large-scale e-commerce application using Selenium and Java\\n* Developed and delivered a training program on testing methodologies and tools to team members\\n\\nCertifications:\\n\\n* Certified Scrum Master (CSM), Scrum Alliance\\n* Certified Software Tester (CSTE), International Software Testing Qualifications Board (ISTQB)\\n\\nReferences:\\nAvailable upon request.\\n\\nI hope this helps! Let me know if you have any questions or if you need any further assistance.\",\n          \"Professional SummaryA senior technical leader with hands-on leadership skills, a team player who works in synergy with staff and peers, excellent communicator, creative, and an out of the box thinker with a strong track record of shipping high-quality software products that billions of people use every day.\\nSkillsSoftware EngineeringLeadership skillsSkilled problem solverTeam building expertiseIOS Application DevelopmentFull-stack Application DevelopmentTeam ExecutionRecruiting & On-boarding and mentoringStrong communication skillsProduct developmentProduct Experimentation and A/B TestingAgile MethodologiesProgramming Languages: Objective-C, Python, SQL, MySQL\\nEducationBoston UniversityBoston, MA,Expected in\\u00e2\\u20ac\\u201c\\u00e2\\u20ac\\u201cMaster of Science:Computer Information Systems-GPA:Bilkent UniversityAnkara, Turkey,Expected in\\u00e2\\u20ac\\u201c\\u00e2\\u20ac\\u201cBachelor of Science:Computer Information Systems-GPA:\\nWork HistoryLockheed Martin Corporation-Staff Software EngineerHighlands Ranch,CO,06/2015-06/2019Team Lead- Messenger P2P Payments (1/2019 - 5/2019)Built a new team from 0 to 60 for a complete re-write of P2P payment product in Messenger iOS appLed 5 engineers and set the technical direction for the P2P Payment client re-write. Architect, designed and implemented the major P2P payment flow including send/receive money flowsPrioritized features, identified dependencies, communicated and partnered with cross-functional team leaders to hit company-level milestones and deadlines on-timeImproved team execution processes including bi-weekly sprint planning process, daily stand-ups, weekly team meetingCoached junior and senior engineers to improve their productivity, communication and leadership skillsTeam Lead- Instagram Business Communications (7/2017 - 1/2019)Founding engineer for the team, help built the team and grew to 6 team members. Managed the team about 6 months before transitioning to new roleArchitect and implemented all major business messaging product features including Instagram Direct Inbox filters, quick replies, priority inbox, star messagesBuilt quarter product roadmaps along with PM and owned the execution end to endBuilt a high-performing, strong engineering culture within the team by writing design documents, test plans and logging specs, common-used SQL queries, and leading successful production rollouts, and making proactive changes that improve stabilityConducted product experiments, investigated and performed statistical analysis on A/B test resultsSetup dashboard and monitoring systems for the product and created on-call rotation for product stabilityCoached a group of 13 engineers, intern managers, to support their interns for 12 weeks. 93% of interns got offer at the endCo-led Instagram iOS on-boarding training for a year, gave presentations and helped new employees ramp on the tools, processes and codebaseRecruited and mentored talent from bootcampiOS Lead- Instagram Ads (6/2015 - 7/2017)Designed and implemented major Instagram Ads products in iOS application including Instagram Story Ads, Story links, Canvas ads, watch & browse adsLed 4 iOS engineers and interns and set technical direction for the ads product architecture including reusable components, refactoring projects, and stability measuresMentored junior team members and helped them ramp up on code base and toolsCreated and led Instagram Intern iOS on-boarding program that helped Instagram summer/winter interns to quickly ramp-up on tools, processes and client codebaseLivongo Health, Inc.-Senior Software EngineerMountain View,CA,08/2009-03/2015Senior Software Engineer, Outlook.com 11/2012 - 3/2015Designed and Integrated Skype (IM/Audio/Video Call) into Outlook.comDesigned and implemented crypto key management system which supports crypto key rotationSoftware Engineer, Visual Studio Tools for T-SQL, 8/2010 - 11/2012Designed and implemented the T-SQL debugger test infrastructure and API for functional and unit testsHelped developers resolve their issues via MSDN forumsSoftware Engineer in Test, (MSFT Contractor) 8/2009 - 8/2010Designed and implemented test cases for Bing Twitter Maps productConducted load testing and capacity analysis for Bing Twitter Maps product\\nSkillsSoftware EngineeringLeadership skillsSkilled problem solverTeam building expertiseIOS Application DevelopmentFull-stack Application DevelopmentTeam ExecutionRecruiting & On-boarding and mentoringStrong communication skillsProduct developmentProduct Experimentation and A/B TestingAgile MethodologiesProgramming Languages: Objective-C, Python, SQL, MySQL\"\n        ],\n        \"semantic_type\": \"\",\n        \"description\": \"\"\n      }\n    },\n    {\n      \"column\": \"job_description_text\",\n      \"properties\": {\n        \"dtype\": \"category\",\n        \"num_unique_values\": 190,\n        \"samples\": [\n          \"We're seeking a talented Cloud Architect to work on cloud migration and bring new ideas to life.\",\n          \"We're seeking a talented Machine Learning Engineer to work on cloud migration and bring new ideas to life.\",\n          \"Join our team as a Product Manager and leverage your 10 years of experience to make an impact and contribute to innovative projects.\"\n        ],\n        \"semantic_type\": \"\",\n        \"description\": \"\"\n      }\n    },\n    {\n      \"column\": \"decision\",\n      \"properties\": {\n        \"dtype\": \"number\",\n        \"std\": 0,\n        \"min\": 0,\n        \"max\": 1,\n        \"num_unique_values\": 2,\n        \"samples\": [\n          1,\n          0\n        ],\n        \"semantic_type\": \"\",\n        \"description\": \"\"\n      }\n    },\n    {\n      \"column\": \"job_id\",\n      \"properties\": {\n        \"dtype\": \"number\",\n        \"std\": 53,\n        \"min\": 0,\n        \"max\": 189,\n        \"num_unique_values\": 190,\n        \"samples\": [\n          175,\n          180\n        ],\n        \"semantic_type\": \"\",\n        \"description\": \"\"\n      }\n    }\n  ]\n}"
            }
          },
          "metadata": {},
          "execution_count": 61
        }
      ],
      "source": [
        "df = pd.read_csv('cleaned_data.csv', on_bad_lines='skip', engine='python')\n",
        "df"
      ]
    },
    {
      "cell_type": "code",
      "source": [
        "df['combined_text'] = df['resume_Text'] + \" \" + df['job_description_text']\n"
      ],
      "metadata": {
        "id": "ON_UGzp6-ePB"
      },
      "execution_count": 62,
      "outputs": []
    },
    {
      "cell_type": "code",
      "source": [
        "vectorizer = TfidfVectorizer(max_features=10000)\n",
        "resume_tfidf = vectorizer.fit_transform(df['resume_Text'])\n",
        "job_tfidf = vectorizer.transform(df['job_description_text'])\n",
        "X = np.hstack([resume_tfidf.toarray(), job_tfidf.toarray()])\n",
        "y = df['decision']\n"
      ],
      "metadata": {
        "id": "rTRT86Fd-eMn"
      },
      "execution_count": 63,
      "outputs": []
    },
    {
      "cell_type": "code",
      "source": [
        "X_train, X_test, y_train, y_test, idx_train, idx_test = train_test_split(\n",
        "    X, y, df.index, test_size=0.2, stratify=df['job_id'], random_state=42)\n"
      ],
      "metadata": {
        "id": "L9a1Vz18-eKe"
      },
      "execution_count": 64,
      "outputs": []
    },
    {
      "cell_type": "code",
      "source": [
        "train_accuracies = {}\n",
        "test_accuracies = {}"
      ],
      "metadata": {
        "id": "s9kuTtOv7wNP"
      },
      "execution_count": 65,
      "outputs": []
    },
    {
      "cell_type": "code",
      "source": [
        "#Cosine Similarity Model\n",
        "resume_vec = vectorizer.fit_transform(df['resume_Text'])\n",
        "job_vec = vectorizer.transform(df['job_description_text'])\n",
        "df['tfidf_cosine_score'] = cosine_similarity(resume_vec, job_vec).diagonal()\n"
      ],
      "metadata": {
        "id": "JFkGeDW3-eH6"
      },
      "execution_count": 66,
      "outputs": []
    },
    {
      "cell_type": "code",
      "source": [
        "#Logistic Regression\n",
        "lr_model = LogisticRegression(max_iter=1000)\n",
        "lr_model.fit(X_train, y_train)\n",
        "df['tfidf_lr_score'] = lr_model.predict_proba(X)[:, 1]\n",
        "train_accuracies['LogReg'] = accuracy_score(y_train, lr_model.predict(X_train))\n",
        "test_accuracies['LogReg'] = accuracy_score(y_test, lr_model.predict(X_test))\n",
        "#df['log_rank'] = df.groupby('job_id')['log_score'].rank(ascending=False)"
      ],
      "metadata": {
        "id": "ijRplICM-eDZ"
      },
      "execution_count": 67,
      "outputs": []
    },
    {
      "cell_type": "code",
      "source": [
        "#Random Forest\n",
        "rf_model = RandomForestClassifier(n_estimators=100)\n",
        "rf_model.fit(X_train, y_train)\n",
        "df['tfidf_rf_score'] = rf_model.predict_proba(X)[:, 1]\n",
        "train_accuracies['RandomForest'] = accuracy_score(y_train, rf_model.predict(X_train))\n",
        "test_accuracies['RandomForest'] = accuracy_score(y_test, rf_model.predict(X_test))"
      ],
      "metadata": {
        "id": "_LrStbrt-d8X"
      },
      "execution_count": 68,
      "outputs": []
    },
    {
      "cell_type": "code",
      "source": [
        "#LinearSVC\n",
        "svc_model = LinearSVC()\n",
        "svc_model.fit(X_train, y_train)\n",
        "df['tfidf_svc_score'] = svc_model.decision_function(X)\n",
        "train_accuracies['LinearSVC'] = accuracy_score(y_train, svc_model.predict(X_train))\n",
        "test_accuracies['LinearSVC'] = accuracy_score(y_test, svc_model.predict(X_test))"
      ],
      "metadata": {
        "id": "tRMzes5j_dcj"
      },
      "execution_count": 69,
      "outputs": []
    },
    {
      "cell_type": "code",
      "source": [
        "# XGBoost\n",
        "xgb_model = XGBClassifier(use_label_encoder=False, eval_metric='logloss')\n",
        "xgb_model.fit(X_train, y_train)\n",
        "df['tfidf_xgb_score'] = xgb_model.predict_proba(X)[:, 1]\n",
        "train_accuracies['XGBoost'] = accuracy_score(y_train, xgb_model.predict(X_train))\n",
        "test_accuracies['XGBoost'] = accuracy_score(y_test, xgb_model.predict(X_test))"
      ],
      "metadata": {
        "colab": {
          "base_uri": "https://localhost:8080/"
        },
        "id": "8OURvnjcrc7V",
        "outputId": "aa029723-b633-40a8-c592-45fb03a91319"
      },
      "execution_count": 70,
      "outputs": [
        {
          "output_type": "stream",
          "name": "stderr",
          "text": [
            "/usr/local/lib/python3.11/dist-packages/xgboost/core.py:158: UserWarning: [16:06:46] WARNING: /workspace/src/learner.cc:740: \n",
            "Parameters: { \"use_label_encoder\" } are not used.\n",
            "\n",
            "  warnings.warn(smsg, UserWarning)\n"
          ]
        }
      ]
    },
    {
      "cell_type": "code",
      "source": [
        "# LightGBM\n",
        "lgb_model = LGBMClassifier()\n",
        "lgb_model.fit(X_train, y_train)\n",
        "df['tfidf_lgb_score'] = lgb_model.predict_proba(X)[:, 1]\n",
        "train_accuracies['LightGBM'] = accuracy_score(y_train, xgb_model.predict(X_train))\n",
        "test_accuracies['LightGBM'] = accuracy_score(y_test, xgb_model.predict(X_test))"
      ],
      "metadata": {
        "colab": {
          "base_uri": "https://localhost:8080/"
        },
        "id": "K1r1vVBKs4Dv",
        "outputId": "7b25dd62-0a1a-497f-8173-33b96a74696d"
      },
      "execution_count": 71,
      "outputs": [
        {
          "output_type": "stream",
          "name": "stderr",
          "text": [
            "/usr/local/lib/python3.11/dist-packages/sklearn/utils/deprecation.py:151: FutureWarning: 'force_all_finite' was renamed to 'ensure_all_finite' in 1.6 and will be removed in 1.8.\n",
            "  warnings.warn(\n"
          ]
        },
        {
          "output_type": "stream",
          "name": "stdout",
          "text": [
            "[LightGBM] [Info] Number of positive: 2093, number of negative: 1770\n",
            "[LightGBM] [Info] Auto-choosing col-wise multi-threading, the overhead of testing was 0.735273 seconds.\n",
            "You can set `force_col_wise=true` to remove the overhead.\n",
            "[LightGBM] [Info] Total Bins 203668\n",
            "[LightGBM] [Info] Number of data points in the train set: 3863, number of used features: 9108\n",
            "[LightGBM] [Info] [binary:BoostFromScore]: pavg=0.541807 -> initscore=0.167619\n",
            "[LightGBM] [Info] Start training from score 0.167619\n"
          ]
        },
        {
          "output_type": "stream",
          "name": "stderr",
          "text": [
            "/usr/local/lib/python3.11/dist-packages/sklearn/utils/deprecation.py:151: FutureWarning: 'force_all_finite' was renamed to 'ensure_all_finite' in 1.6 and will be removed in 1.8.\n",
            "  warnings.warn(\n"
          ]
        }
      ]
    },
    {
      "cell_type": "code",
      "source": [
        "# Naive Bayes (Gaussian)\n",
        "nb_model = GaussianNB()\n",
        "nb_model.fit(X_train, y_train)\n",
        "df['tfidf_nb_score'] = nb_model.predict_proba(X)[:, 1]\n",
        "train_accuracies['NaiveBayes'] = accuracy_score(y_train, nb_model.predict(X_train))\n",
        "test_accuracies['NaiveBayes'] = accuracy_score(y_test, nb_model.predict(X_test))"
      ],
      "metadata": {
        "id": "WGk6zLPutBY1"
      },
      "execution_count": 72,
      "outputs": []
    },
    {
      "cell_type": "code",
      "source": [
        "# K-Nearest Neighbors\n",
        "knn_model = KNeighborsClassifier(n_neighbors=5)\n",
        "knn_model.fit(X_train, y_train)\n",
        "df['tfidf_knn_score'] = knn_model.predict_proba(X)[:, 1]\n",
        "train_accuracies['KNN'] = accuracy_score(y_train, knn_model.predict(X_train))\n",
        "test_accuracies['KNN'] = accuracy_score(y_test, knn_model.predict(X_test))"
      ],
      "metadata": {
        "id": "MKu8CzEztY4E"
      },
      "execution_count": 73,
      "outputs": []
    },
    {
      "cell_type": "code",
      "source": [
        "# Keras NN\n",
        "nn_model = Sequential([\n",
        "    Dense(128, activation='relu', input_dim=X.shape[1]),\n",
        "    Dense(64, activation='relu'),\n",
        "    Dense(1, activation='sigmoid')\n",
        "])\n",
        "nn_model.compile(optimizer='adam', loss='binary_crossentropy', metrics=['accuracy'])\n",
        "history_nn = nn_model.fit(X_train, y_train, validation_data=(X_test, y_test), epochs=10, batch_size=32, verbose=0)\n",
        "df['tfidf_nn_score'] = nn_model.predict(X).flatten()\n",
        "train_accuracies['Keras NN'] = accuracy_score(y_train, (nn_model.predict(X_train).flatten() >= 0.5).astype(int))\n",
        "test_accuracies['Keras NN'] = accuracy_score(y_test, (nn_model.predict(X_test).flatten() >= 0.5).astype(int))"
      ],
      "metadata": {
        "colab": {
          "base_uri": "https://localhost:8080/"
        },
        "id": "RcV1gRmiADQ0",
        "outputId": "38a0a3cc-3271-4452-d64f-0189589149ec"
      },
      "execution_count": 74,
      "outputs": [
        {
          "output_type": "stream",
          "name": "stderr",
          "text": [
            "/usr/local/lib/python3.11/dist-packages/keras/src/layers/core/dense.py:87: UserWarning: Do not pass an `input_shape`/`input_dim` argument to a layer. When using Sequential models, prefer using an `Input(shape)` object as the first layer in the model instead.\n",
            "  super().__init__(activity_regularizer=activity_regularizer, **kwargs)\n"
          ]
        },
        {
          "output_type": "stream",
          "name": "stdout",
          "text": [
            "\u001b[1m151/151\u001b[0m \u001b[32m━━━━━━━━━━━━━━━━━━━━\u001b[0m\u001b[37m\u001b[0m \u001b[1m1s\u001b[0m 5ms/step\n",
            "\u001b[1m121/121\u001b[0m \u001b[32m━━━━━━━━━━━━━━━━━━━━\u001b[0m\u001b[37m\u001b[0m \u001b[1m1s\u001b[0m 5ms/step\n",
            "\u001b[1m31/31\u001b[0m \u001b[32m━━━━━━━━━━━━━━━━━━━━\u001b[0m\u001b[37m\u001b[0m \u001b[1m0s\u001b[0m 6ms/step\n"
          ]
        }
      ]
    },
    {
      "cell_type": "code",
      "source": [
        "# Siamese Network\n",
        "X1 = resume_tfidf.toarray()\n",
        "X2 = job_tfidf.toarray()\n",
        "y_array = np.array(df['decision'])\n",
        "X1_train, X1_test, X2_train, X2_test, y_train, y_test = train_test_split(\n",
        "    X1, X2, y_array, stratify=df['job_id'], test_size=0.2, random_state=42)\n",
        "\n",
        "embedding_dim = X1.shape[1]\n",
        "input_a = Input(shape=(embedding_dim,))\n",
        "input_b = Input(shape=(embedding_dim,))\n",
        "\n",
        "def build_shared_network(input_dim):\n",
        "    x = Input(shape=(input_dim,))\n",
        "    h = Dense(256, activation='relu')(x)\n",
        "    h = Dropout(0.3)(h)\n",
        "    h = Dense(128, activation='relu')(h)\n",
        "    return Model(x, h)\n",
        "\n",
        "shared_network = build_shared_network(embedding_dim)\n",
        "encoded_a = shared_network(input_a)\n",
        "encoded_b = shared_network(input_b)\n",
        "\n",
        "l1_distance = Lambda(lambda tensors: tf.abs(tensors[0] - tensors[1]), output_shape=lambda input_shapes: input_shapes[0])\n",
        "merged = l1_distance([encoded_a, encoded_b])\n",
        "output = Dense(1, activation='sigmoid')(merged)\n",
        "\n",
        "siamese_model = Model(inputs=[input_a, input_b], outputs=output)\n",
        "siamese_model.compile(loss='binary_crossentropy', optimizer=Adam(0.001), metrics=['accuracy'])\n",
        "history_siamese = siamese_model.fit([X1_train, X2_train], y_train, validation_data=([X1_test, X2_test], y_test), batch_size=32, epochs=10, verbose=0)\n",
        "df['tfidf_siamese_score'] = siamese_model.predict([X1, X2]).flatten()"
      ],
      "metadata": {
        "colab": {
          "base_uri": "https://localhost:8080/"
        },
        "id": "OHUAdQMNtTDQ",
        "outputId": "485c2bcb-1353-40db-fba0-4311a1a05925"
      },
      "execution_count": 75,
      "outputs": [
        {
          "output_type": "stream",
          "name": "stdout",
          "text": [
            "\u001b[1m151/151\u001b[0m \u001b[32m━━━━━━━━━━━━━━━━━━━━\u001b[0m\u001b[37m\u001b[0m \u001b[1m2s\u001b[0m 10ms/step\n"
          ]
        }
      ]
    },
    {
      "cell_type": "code",
      "source": [
        "siamese_train_pred = (siamese_model.predict([X1_train, X2_train]).flatten() >= 0.5).astype(int)\n",
        "siamese_test_pred = (siamese_model.predict([X1_test, X2_test]).flatten() >= 0.5).astype(int)\n",
        "train_accuracies['Siamese NN'] = accuracy_score(y_train, siamese_train_pred)\n",
        "test_accuracies['Siamese NN'] = accuracy_score(y_test, siamese_test_pred)"
      ],
      "metadata": {
        "colab": {
          "base_uri": "https://localhost:8080/"
        },
        "id": "Tu4E8gLAA-Y1",
        "outputId": "72f56ad8-1514-4eb3-bf53-b84a3ee8b78c"
      },
      "execution_count": 76,
      "outputs": [
        {
          "output_type": "stream",
          "name": "stdout",
          "text": [
            "\u001b[1m121/121\u001b[0m \u001b[32m━━━━━━━━━━━━━━━━━━━━\u001b[0m\u001b[37m\u001b[0m \u001b[1m2s\u001b[0m 16ms/step\n",
            "\u001b[1m31/31\u001b[0m \u001b[32m━━━━━━━━━━━━━━━━━━━━\u001b[0m\u001b[37m\u001b[0m \u001b[1m0s\u001b[0m 10ms/step\n"
          ]
        }
      ]
    },
    {
      "cell_type": "code",
      "source": [
        "def print_all_model_accuracies():\n",
        "    print(\"\\n📊 Train vs Test Accuracy Summary:\")\n",
        "    print(f\"{'Model':<20} {'Train Accuracy':<18} {'Test Accuracy':<18}\")\n",
        "    print(\"-\" * 60)\n",
        "    for name in train_accuracies:\n",
        "        print(f\"{name:<20} {train_accuracies[name]:<18.4f} {test_accuracies[name]:<18.4f}\")\n",
        "\n",
        "print_all_model_accuracies()"
      ],
      "metadata": {
        "colab": {
          "base_uri": "https://localhost:8080/"
        },
        "id": "PEC89z_z_GBO",
        "outputId": "de545058-ce3e-4c5e-d01b-f70935b9e7af"
      },
      "execution_count": 77,
      "outputs": [
        {
          "output_type": "stream",
          "name": "stdout",
          "text": [
            "\n",
            "📊 Train vs Test Accuracy Summary:\n",
            "Model                Train Accuracy     Test Accuracy     \n",
            "------------------------------------------------------------\n",
            "LogReg               0.7820             0.6563            \n",
            "RandomForest         1.0000             0.6770            \n",
            "LinearSVC            0.8732             0.6905            \n",
            "XGBoost              0.9943             0.7060            \n",
            "LightGBM             0.9943             0.7060            \n",
            "NaiveBayes           0.7590             0.6149            \n",
            "KNN                  0.7543             0.5963            \n",
            "Keras NN             0.9995             0.7505            \n",
            "Siamese NN           0.9953             0.7733            \n"
          ]
        }
      ]
    },
    {
      "cell_type": "code",
      "source": [
        "def evaluate_model(name, y_true, y_score):\n",
        "    acc = accuracy_score(y_true, y_score >= 0.5)\n",
        "    print(f\"{name}: Accuracy = {acc:.4f}\")\n",
        "\n",
        "evaluate_model(\"Cosine\", y, df['tfidf_cosine_score'])\n"
      ],
      "metadata": {
        "colab": {
          "base_uri": "https://localhost:8080/"
        },
        "id": "H7z3bG6RAa9e",
        "outputId": "5b2bfa86-59c2-4dc1-e3d5-f6f1973fe920"
      },
      "execution_count": 78,
      "outputs": [
        {
          "output_type": "stream",
          "name": "stdout",
          "text": [
            "Cosine: Accuracy = 0.4589\n"
          ]
        }
      ]
    },
    {
      "cell_type": "code",
      "source": [
        "plt.figure(figsize=(12, 6))\n",
        "plt.plot(history_nn.history['accuracy'], label='Keras NN - Train')\n",
        "plt.plot(history_nn.history['val_accuracy'], label='Keras NN - Test')\n",
        "plt.plot(history_siamese.history['accuracy'], label='Siamese - Train')\n",
        "plt.plot(history_siamese.history['val_accuracy'], label='Siamese - Test')\n",
        "plt.title('Train vs Validation Accuracy for NN Models')\n",
        "plt.xlabel('Epoch')\n",
        "plt.ylabel('Accuracy')\n",
        "plt.legend()\n",
        "plt.grid(True)\n",
        "plt.show()"
      ],
      "metadata": {
        "colab": {
          "base_uri": "https://localhost:8080/",
          "height": 564
        },
        "id": "rRJxCX9oyrC7",
        "outputId": "1bdbaff3-4a69-4c02-aaf1-a3cdd23a3c6f"
      },
      "execution_count": 79,
      "outputs": [
        {
          "output_type": "display_data",
          "data": {
            "text/plain": [
              "<Figure size 1200x600 with 1 Axes>"
            ],
            "image/png": "[encoded data removed]"
          },
          "metadata": {}
        }
      ]
    },
    {
      "cell_type": "code",
      "source": [
        "plt.figure(figsize=(10, 6))\n",
        "labels = list(train_accuracies.keys())\n",
        "train_vals = list(train_accuracies.values())\n",
        "test_vals = list(test_accuracies.values())\n",
        "\n",
        "x = range(len(labels))\n",
        "plt.bar([i - 0.2 for i in x], train_vals, width=0.4, label='Train')\n",
        "plt.bar([i + 0.2 for i in x], test_vals, width=0.4, label='Test')\n",
        "plt.xticks(x, labels, rotation=45)\n",
        "plt.ylabel(\"Accuracy\")\n",
        "plt.title(\"Train vs Test Accuracy (Traditional Models)\")\n",
        "plt.legend()\n",
        "plt.tight_layout()\n",
        "plt.grid(True)\n",
        "plt.show()\n"
      ],
      "metadata": {
        "colab": {
          "base_uri": "https://localhost:8080/",
          "height": 607
        },
        "id": "H9Mi6COyyq-p",
        "outputId": "1943dc26-48d4-411a-99f6-9cf587843167"
      },
      "execution_count": 82,
      "outputs": [
        {
          "output_type": "display_data",
          "data": {
            "text/plain": [
              "<Figure size 1000x600 with 1 Axes>"
            ],
            "image/png": "[encoded data removed]"
          },
          "metadata": {}
        }
      ]
    },
    {
      "cell_type": "code",
      "source": [
        "df[[\n",
        "    'job_id', 'decision',\n",
        "    'tfidf_lr_score','tfidf_rf_score', 'tfidf_svc_score',\n",
        "    'tfidf_xgb_score', 'tfidf_lgb_score','tfidf_nn_score', 'tfidf_nb_score', 'tfidf_knn_score',\n",
        "    'tfidf_siamese_score']].to_csv(\"tfidf_model_scores.csv\", index=False)"
      ],
      "metadata": {
        "id": "TVlnTEsMxdKi"
      },
      "execution_count": 83,
      "outputs": []
    }
  ]
}